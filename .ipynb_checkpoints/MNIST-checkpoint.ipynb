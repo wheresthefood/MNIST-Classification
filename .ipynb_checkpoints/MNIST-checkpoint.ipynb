{
 "cells": [
  {
   "cell_type": "code",
   "execution_count": 1,
   "metadata": {
    "collapsed": true
   },
   "outputs": [],
   "source": [
    "import numpy as np\n",
    "import matplotlib.pyplot as plt\n",
    "import random as rd\n",
    "data = np.loadtxt('train_MNIST.csv', dtype = str, delimiter = ',')\n"
   ]
  },
  {
   "cell_type": "code",
   "execution_count": 2,
   "metadata": {
    "collapsed": true
   },
   "outputs": [],
   "source": [
    "y = np.asarray(data[1:, 0:1], dtype='float')\n",
    "X = np.asarray(data[1:,1:], dtype='float')\n",
    "\n",
    "def add_ones(x):\n",
    " \ta, b = np.shape(x)\n",
    "\tc = np.ones((a , 1))   \n",
    "\treturn np.hstack((c, x))\n",
    "\n",
    "X = add_ones(X)"
   ]
  },
  {
   "cell_type": "code",
   "execution_count": 3,
   "metadata": {
    "collapsed": true
   },
   "outputs": [],
   "source": [
    "from sklearn.model_selection import train_test_split"
   ]
  },
  {
   "cell_type": "code",
   "execution_count": 4,
   "metadata": {
    "collapsed": true
   },
   "outputs": [],
   "source": [
    "X_train, X_test, y_train, y_test = train_test_split(X, y, test_size=0.9, random_state=42)"
   ]
  },
  {
   "cell_type": "code",
   "execution_count": 5,
   "metadata": {
    "collapsed": true
   },
   "outputs": [],
   "source": [
    "def img(row, data):\n",
    "\timage = np.zeros((28,28))\n",
    "\tfor i in range(0,28):\n",
    "\t\tfor j in range(0,28):\n",
    "\t\t\tpix = 28*i+j\n",
    "\t\t\timage[i,j] = data[row, pix]\n",
    "\tplt.imshow(image, cmap = 'gray')\n",
    "\tplt.show()\n",
    "\tprint data[row,0]"
   ]
  },
  {
   "cell_type": "code",
   "execution_count": null,
   "metadata": {
    "collapsed": true
   },
   "outputs": [],
   "source": []
  },
  {
   "cell_type": "code",
   "execution_count": 6,
   "metadata": {},
   "outputs": [
    {
     "data": {
      "image/png": "[encoded data removed]",
      "text/plain": [
       "<matplotlib.figure.Figure at 0x1188f3ad0>"
      ]
     },
     "metadata": {},
     "output_type": "display_data"
    },
    {
     "name": "stdout",
     "output_type": "stream",
     "text": [
      "1.0\n"
     ]
    }
   ],
   "source": [
    "img(1, X_train)"
   ]
  },
  {
   "cell_type": "code",
   "execution_count": 7,
   "metadata": {},
   "outputs": [],
   "source": [
    "def create_weights(data):\n",
    "\ta, b = np.shape(data)\n",
    "\tweights = np.random.rand(b,1)\n",
    "\treturn weights\n",
    "\n",
    "weights = create_weights(X_train)"
   ]
  },
  {
   "cell_type": "code",
   "execution_count": 8,
   "metadata": {
    "collapsed": true
   },
   "outputs": [],
   "source": [
    "def predict(data_point, weights):\n",
    "\tb = np.dot(data_point, weights)\n",
    "\ta = b>0\n",
    "\treturn a*1"
   ]
  },
  {
   "cell_type": "code",
   "execution_count": 9,
   "metadata": {
    "collapsed": true
   },
   "outputs": [],
   "source": [
    "def one_number(labels, number):\n",
    "\treturn (labels == number)*1"
   ]
  },
  {
   "cell_type": "code",
   "execution_count": 10,
   "metadata": {
    "collapsed": true
   },
   "outputs": [],
   "source": [
    "label_ones = one_number(y_train, 2)"
   ]
  },
  {
   "cell_type": "code",
   "execution_count": 11,
   "metadata": {
    "collapsed": true
   },
   "outputs": [],
   "source": [
    "def update(weights, data_point, labels, alpha=.1):\n",
    "\tpredicted = predict(data_point, weights)\n",
    "#for i in range(0, len(weights)):\n",
    "\tweight_temp = np.zeros(np.shape(weights))\n",
    "\tweight_temp[:,0] = alpha*(labels-predicted)*data_point\n",
    "\treturn weight_temp+weights"
   ]
  },
  {
   "cell_type": "code",
   "execution_count": 12,
   "metadata": {},
   "outputs": [
    {
     "data": {
      "text/plain": [
       "(785, 1)"
      ]
     },
     "execution_count": 12,
     "metadata": {},
     "output_type": "execute_result"
    }
   ],
   "source": [
    "np.shape(update(weights, X_train[3], label_ones[3]))"
   ]
  },
  {
   "cell_type": "code",
   "execution_count": 13,
   "metadata": {
    "collapsed": true
   },
   "outputs": [],
   "source": [
    "def train_perceptron(data, labels, weights, alpha = .1, iterations = 100):\n",
    "\tfor j in range(0, iterations):\n",
    "\t\tfor i in range(0, len(data)):\n",
    "\t\t\tweights = update(weights, data[i], labels[i], alpha)\n",
    "\treturn weights"
   ]
  },
  {
   "cell_type": "code",
   "execution_count": 14,
   "metadata": {
    "collapsed": true
   },
   "outputs": [],
   "source": [
    "weights_new = train_perceptron(X_train, label_ones, weights, alpha = .1, iterations = 50)"
   ]
  },
  {
   "cell_type": "code",
   "execution_count": 15,
   "metadata": {
    "collapsed": true
   },
   "outputs": [],
   "source": [
    "label_ones = one_number(y_train, 3)\n",
    "weights_new = train_perceptron(X_train, label_ones, weights, alpha = .01, iterations =6)"
   ]
  },
  {
   "cell_type": "code",
   "execution_count": 16,
   "metadata": {},
   "outputs": [],
   "source": [
    "def test_perceptron_f(data, labels, weights):\n",
    "    a,b = np.shape(data)\n",
    "    predicted = predict(data, weights)\n",
    "    correct = (predicted==labels)*1==1\n",
    "    true_pos = np.sum((labels==1)*(correct))\n",
    "    true_neg = np.sum((labels==0)*(correct))\n",
    "    total_pos = np.sum(labels)\n",
    "    total_neg = a-total_pos\n",
    "    tp_p = true_pos/float(np.sum(labels))\n",
    "    tn_p = true_neg/float(a- np.sum(labels))\n",
    "    return true_pos, true_neg, tp_p, tn_p, total_pos, total_neg\n",
    "    \n",
    "a,b,c,d,e,f = test_perceptron_f(X_train, label_ones, weights_new)"
   ]
  },
  {
   "cell_type": "code",
   "execution_count": 17,
   "metadata": {
    "collapsed": true
   },
   "outputs": [],
   "source": [
    "import matplotlib.pyplot as plt"
   ]
  },
  {
   "cell_type": "code",
   "execution_count": 18,
   "metadata": {},
   "outputs": [
    {
     "name": "stdout",
     "output_type": "stream",
     "text": [
      "0.830508474576 0.99049379456\n"
     ]
    }
   ],
   "source": [
    "print c, d"
   ]
  },
  {
   "cell_type": "code",
   "execution_count": 19,
   "metadata": {},
   "outputs": [
    {
     "data": {
      "image/png": "[encoded data removed]",
      "text/plain": [
       "<matplotlib.figure.Figure at 0x118aaba10>"
      ]
     },
     "metadata": {},
     "output_type": "display_data"
    }
   ],
   "source": [
    "\n",
    "width = 0.3\n",
    "\n",
    "p1 = plt.bar((1,1.7), (a,b), width, color = 'red')\n",
    "p1 = plt.bar((1.3,2), (e, f), width, color = 'blue')\n",
    "plt.ylabel('Number')\n",
    "plt.title('Testing Since Perceptron')\n",
    "plt.xticks((1,1.3, 1.7, 2), ('True Pos','Total Pos','True Neg', 'Total Neg'))\n",
    "# plt.yticks(np.arange(0, 81, 10))\n",
    "# plt.legend((p1[0], p2[0]), ('Men', 'Women'))\n",
    "\n",
    "plt.show()"
   ]
  },
  {
   "cell_type": "code",
   "execution_count": 20,
   "metadata": {},
   "outputs": [],
   "source": [
    "\n",
    "for i in range(0,10):\n",
    "\tnum = i\n",
    "\tlabel_ones = one_number(y_train, num)\n",
    "\tweights_new = train_perceptron(X_train, label_ones, weights, alpha = .1, iterations =5)\n",
    "\tlabel_test = one_number(y_test, num)\n",
    "\ta = test_perceptron_f(X_test, label_test, weights_new)"
   ]
  },
  {
   "cell_type": "code",
   "execution_count": null,
   "metadata": {
    "collapsed": true
   },
   "outputs": [],
   "source": []
  },
  {
   "cell_type": "code",
   "execution_count": 21,
   "metadata": {
    "collapsed": true
   },
   "outputs": [],
   "source": [
    "def all_numbers(data,labels):\n",
    "\tc,d = np.shape(data)\n",
    "\tw = create_weights(data)\n",
    "\tweights = []\n",
    "\tfor i in range(0,  len(np.unique(labels))):\n",
    "\t\tz = one_number(labels, i)\n",
    "\t\ta = train_perceptron(data, z, w, .1, 4)\n",
    "\t\tweights.append(a[:,0])\n",
    "\treturn np.asarray(weights)"
   ]
  },
  {
   "cell_type": "code",
   "execution_count": 22,
   "metadata": {
    "collapsed": true
   },
   "outputs": [],
   "source": [
    "w = all_numbers(X_train, y_train)"
   ]
  },
  {
   "cell_type": "code",
   "execution_count": 23,
   "metadata": {},
   "outputs": [
    {
     "name": "stdout",
     "output_type": "stream",
     "text": [
      "(10, 785)\n"
     ]
    }
   ],
   "source": [
    "print np.shape(w)"
   ]
  },
  {
   "cell_type": "code",
   "execution_count": null,
   "metadata": {
    "collapsed": true
   },
   "outputs": [],
   "source": []
  },
  {
   "cell_type": "code",
   "execution_count": 24,
   "metadata": {},
   "outputs": [
    {
     "name": "stdout",
     "output_type": "stream",
     "text": [
      "0.849047619048\n"
     ]
    }
   ],
   "source": [
    "def one_all(data, weights):\n",
    "\ta = np.dot(data,np.transpose(weights))\n",
    "\tb = len(np.shape(data))\n",
    "\tif b == 1:\n",
    "\t\treturn np.argmax(a)\n",
    "\treturn np.argmax(a, axis=1)\n",
    "\n",
    "\n",
    "def test_all(data, labels, weights):\n",
    "\ta, b = np.shape(labels)\n",
    "\tpredicted = one_all(data, weights)\n",
    "\tcorrect = predicted == labels[:,0]\n",
    "\taccuracy = np.sum(correct)/float(a)\n",
    "\treturn accuracy\n",
    "\n",
    "print test_all(X_train, y_train, w)\n",
    "\n"
   ]
  },
  {
   "cell_type": "code",
   "execution_count": 25,
   "metadata": {
    "collapsed": true
   },
   "outputs": [],
   "source": [
    "### Figure out what learnign rate to use\n",
    "### going to rewrite some of my training funtions\n",
    "\n"
   ]
  },
  {
   "cell_type": "code",
   "execution_count": 26,
   "metadata": {},
   "outputs": [],
   "source": [
    "import matplotlib.pyplot as plt\n",
    "lbls = one_number(y_train, 2)\n",
    "lbls_t = one_number(y_test, 2)"
   ]
  },
  {
   "cell_type": "code",
   "execution_count": 65,
   "metadata": {},
   "outputs": [
    {
     "name": "stdout",
     "output_type": "stream",
     "text": [
      "7e-06\n",
      "[0.54297804813541395, 0.63607511240412584, 0.68685532927796877, 0.71462576038085157, 0.73895794763290135, 0.7468923565194393, 0.755620206294631, 0.75800052896059245, 0.77228246495636077, 0.7680507802168739, 0.77704311028828355, 0.77386934673366836, 0.7839195979899497, 0.78286167680507801, 0.78127479502777042, 0.78577096006347524, 0.78153927532398837, 0.7844485585823856, 0.78365511769373186, 0.7844485585823856, 0.78656440095212909, 0.78868024332187248, 0.79211848717270561, 0.794763290134885, 0.79661465220841043, 0.79820153398571803, 0.79529225072732079, 0.80111081724411526, 0.80454906109494839, 0.80640042316847393, 0.80851626553821743, 0.81169002909283261, 0.80481354139116634, 0.81407035175879394, 0.81988891827558852, 0.81962443797937057, 0.81724411531340913, 0.81380587146257599, 0.80666490346469188, 0.81459931235122984, 0.81433483205501189, 0.80534250198360224, 0.80666490346469188, 0.81988891827558852, 0.81301243057392225, 0.80904522613065322, 0.81856651679449877, 0.81512827294366574, 0.82068235916424226, 0.82121131975667816, 0.81830203649828093, 0.82438508331129334, 0.82517852419994708, 0.82517852419994708, 0.83099709071674155, 0.82597196508860093, 0.8323194921978313, 0.82623644538481888, 0.82702988627347263, 0.8312615710129595, 0.82914572864321612, 0.83152605130917745, 0.82808780745834432, 0.83258397249404914, 0.82888124834699817, 0.83364189367892094, 0.82597196508860093, 0.82702988627347263, 0.83549325575244648, 0.83258397249404914, 0.83046813012430576, 0.82808780745834432, 0.83628669664110022, 0.82888124834699817, 0.8323194921978313, 0.83549325575244648, 0.83575773604866432, 0.83337741338270299, 0.83866701930706167, 0.83946046019571541, 0.8317905316053954, 0.83840253901084372, 0.8312615710129595, 0.83364189367892094, 0.83734461782597192, 0.83813805871462577, 0.83708013752975408, 0.83840253901084372, 0.83655117693731817, 0.83443533456757468, 0.83020364982808781, 0.83337741338270299, 0.83337741338270299, 0.82993916953186986, 0.8312615710129595, 0.82967468923565191, 0.83337741338270299, 0.8317905316053954, 0.82914572864321612, 0.83522877545622853, 0.82861676805078022, 0.83284845279026709, 0.82835228775456227, 0.82729436656969058, 0.82650092568103672, 0.82570748479238298, 0.8317905316053954, 0.8225337212377678, 0.83284845279026709, 0.82359164242263949, 0.8317905316053954, 0.82755884686590853, 0.83469981486379263, 0.82861676805078022, 0.82941020893943396, 0.82808780745834432, 0.83893149960327951, 0.8323194921978313, 0.83258397249404914, 0.83602221634488227, 0.82729436656969058, 0.83708013752975408, 0.84580798730494577, 0.84448558582385613, 0.84289870404654854, 0.83708013752975408, 0.83549325575244648, 0.84131182226924095, 0.83602221634488227, 0.82888124834699817, 0.8405183813805871, 0.83417085427135673, 0.83813805871462577, 0.84078286167680505, 0.84263422375033059, 0.83443533456757468, 0.84422110552763818, 0.83628669664110022, 0.83840253901084372, 0.84369214493520228, 0.84369214493520228, 0.84236974345411264, 0.84713038878603542, 0.84554350700872782, 0.841047341973023, 0.83998942078815131, 0.83919597989949746, 0.84078286167680505, 0.84924623115577891, 0.84713038878603542, 0.84025390108436926, 0.83893149960327951, 0.84765934937847132, 0.84765934937847132, 0.84369214493520228, 0.84025390108436926, 0.84236974345411264, 0.84342766463898444, 0.84395662523142023, 0.84131182226924095, 0.83946046019571541, 0.83840253901084372, 0.84078286167680505, 0.84342766463898444, 0.84475006612007408, 0.841047341973023, 0.83840253901084372, 0.83760909812218987, 0.84184078286167685, 0.83787357841840782, 0.83972494049193336, 0.84845279026712506, 0.83840253901084372, 0.83734461782597192, 0.84263422375033059, 0.83946046019571541, 0.84025390108436926, 0.83972494049193336, 0.82993916953186986, 0.83073261042052371, 0.84078286167680505, 0.84184078286167685, 0.84078286167680505, 0.83760909812218987, 0.84025390108436926, 0.8312615710129595, 0.8312615710129595, 0.84289870404654854, 0.83787357841840782, 0.83972494049193336, 0.83522877545622853, 0.83655117693731817, 0.83972494049193336, 0.83655117693731817, 0.83946046019571541, 0.83946046019571541, 0.83337741338270299, 0.83046813012430576, 0.841047341973023, 0.83760909812218987]\n"
     ]
    }
   ],
   "source": [
    "alpha = []\n",
    "t = .000007\n",
    "for i in range(0,1):\n",
    "    alpha.append(t)\n",
    "    t = t/10.0\n",
    "True_pos = []\n",
    "True_neg = []\n",
    "w = create_weights(X_train)\n",
    "for a in alpha:\n",
    "    weights = w\n",
    "    print a\n",
    "    temp_p = []\n",
    "    temp_n = []\n",
    "    for j in range(0,200):\n",
    "        for k in range(0, len(X_train)):\n",
    "            weights = update(weights, X_train[k], lbls[k], a)\n",
    "        f,b,c,d,e,g = test_perceptron_f(X_test, lbls_t, weights)\n",
    "        temp_p.append(c)\n",
    "        temp_n.append(d)\n",
    "    True_pos.append(temp_p)\n",
    "    True_neg.append(temp_n)\n",
    "    print temp_p\n",
    "    "
   ]
  },
  {
   "cell_type": "code",
   "execution_count": 66,
   "metadata": {},
   "outputs": [],
   "source": [
    "TP = np.asarray(True_pos)\n",
    "TN = np.asarray(True_neg)"
   ]
  },
  {
   "cell_type": "code",
   "execution_count": 67,
   "metadata": {},
   "outputs": [
    {
     "name": "stdout",
     "output_type": "stream",
     "text": [
      "1 200\n"
     ]
    }
   ],
   "source": [
    "a,b = np.shape(TP)\n",
    "print a, b"
   ]
  },
  {
   "cell_type": "code",
   "execution_count": 68,
   "metadata": {},
   "outputs": [
    {
     "data": {
      "image/png": "[encoded data removed]",
      "text/plain": [
       "<matplotlib.figure.Figure at 0x11141b290>"
      ]
     },
     "metadata": {},
     "output_type": "display_data"
    },
    {
     "name": "stdout",
     "output_type": "stream",
     "text": [
      "7e-06\n"
     ]
    }
   ],
   "source": [
    "x = xrange(0, b)\n",
    "a = 6\n",
    "# plt.plot(x, TP[0,:])\n",
    "plt.plot(x, TP[0,:])\n",
    "plt.show()\n",
    "print alpha[0]\n",
    "\n",
    "\n",
    "\n"
   ]
  },
  {
   "cell_type": "code",
   "execution_count": 74,
   "metadata": {},
   "outputs": [],
   "source": [
    "def all_numbers(data,labels):\n",
    "\tc,d = np.shape(data)\n",
    "\tw = create_weights(data)\n",
    "\tweights = []\n",
    "\tfor i in range(0,  len(np.unique(labels))):\n",
    "\t\tprint i\n",
    "\t\tz = one_number(labels, i)\n",
    "\t\ta = train_perceptron(data, z, w, .000007, 200)\n",
    "\t\tweights.append(a[:,0])\n",
    "\treturn np.asarray(weights)"
   ]
  },
  {
   "cell_type": "code",
   "execution_count": 75,
   "metadata": {},
   "outputs": [
    {
     "name": "stdout",
     "output_type": "stream",
     "text": [
      "0\n",
      "1\n",
      "2\n",
      "3\n",
      "4\n",
      "5\n",
      "6\n",
      "7\n",
      "8\n",
      "9\n"
     ]
    }
   ],
   "source": [
    "w = all_numbers(X_train, y_train)"
   ]
  },
  {
   "cell_type": "code",
   "execution_count": 76,
   "metadata": {},
   "outputs": [
    {
     "name": "stdout",
     "output_type": "stream",
     "text": [
      "0.850529100529\n"
     ]
    }
   ],
   "source": [
    "print test_all(X_test, y_test, w)"
   ]
  },
  {
   "cell_type": "code",
   "execution_count": null,
   "metadata": {
    "collapsed": true
   },
   "outputs": [],
   "source": []
  }
 ],
 "metadata": {
  "kernelspec": {
   "display_name": "Python 2",
   "language": "python",
   "name": "python2"
  },
  "language_info": {
   "codemirror_mode": {
    "name": "ipython",
    "version": 2
   },
   "file_extension": ".py",
   "mimetype": "text/x-python",
   "name": "python",
   "nbconvert_exporter": "python",
   "pygments_lexer": "ipython2",
   "version": "2.7.13"
  }
 },
 "nbformat": 4,
 "nbformat_minor": 2
}
