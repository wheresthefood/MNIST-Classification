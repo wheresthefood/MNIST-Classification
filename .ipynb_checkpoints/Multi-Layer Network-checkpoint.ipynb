{
 "cells": [
  {
   "cell_type": "code",
   "execution_count": 2,
   "metadata": {
    "collapsed": true
   },
   "outputs": [],
   "source": [
    "import numpy as np\n",
    "from scipy.special import expit\n",
    "import matplotlib.pyplot as plt\n",
    "from sklearn.model_selection import train_test_split\n"
   ]
  },
  {
   "cell_type": "code",
   "execution_count": 4,
   "metadata": {
    "collapsed": true
   },
   "outputs": [],
   "source": [
    "# data = np.loadtxt('train_MNIST.csv', dtype = str, delimiter = ',')\n",
    "# y = np.asarray(data[1:, 0:1], dtype='float')\n",
    "# X = np.asarray(data[1:,1:], dtype='float')"
   ]
  },
  {
   "cell_type": "code",
   "execution_count": 5,
   "metadata": {
    "collapsed": true
   },
   "outputs": [],
   "source": [
    "# X_train, X_test, y_train, y_test = train_test_split(X, y, test_size=0.9, random_state=42)"
   ]
  },
  {
   "cell_type": "code",
   "execution_count": 11,
   "metadata": {},
   "outputs": [],
   "source": [
    "# %load perceptron_object\n",
    "\n",
    "import numpy as np\n",
    "import matplotlib.pyplot as plt\n",
    "import random as rd\n",
    "from sklearn.model_selection import train_test_split\n",
    "\n",
    "# data = np.loadtxt('train_MNIST.csv', dtype = str, delimiter = ',')\n",
    "# y = np.asarray(data[1:, 0:1], dtype='float')\n",
    "# X = np.asarray(data[1:,1:], dtype='float')\n",
    "\n",
    "class Perceptron(object):\n",
    "\tdef __init__(self, data, labels, alpha = .1, iteration = 30, test_percentage = .9):\n",
    "\t\tself.X = self.add_ones(data)\n",
    "\t\tself.y = labels\n",
    "\t\tself.alpha = alpha\n",
    "\t\tself.iteration = iteration\n",
    "\t\tself.X_train, self.X_test, self.y_train, self.y_test = train_test_split(self.X, self.y, test_size=test_percentage, random_state=42)\n",
    "\t\tself.weights = self.all_numbers(self.X_train, self.y_train, self.iteration, self.alpha)\n",
    "\t\tself.accuracy = self.test_all(self.X_test, self.y_test, self.weights)\n",
    "\n",
    "\n",
    "\tdef add_ones(self, x):\n",
    "\t \ta, b = np.shape(x)\n",
    "\t\tc = np.ones((a , 1))   \n",
    "\t\treturn np.hstack((c, x))\n",
    "\n",
    "\tdef img(self, row, data):\n",
    "\n",
    "\t\timage = np.zeros((28,28))\n",
    "\t\tfor i in range(0,28):\n",
    "\t\t\tfor j in range(0,28):\n",
    "\t\t\t\tpix = 28*i+j\n",
    "\t\t\t\timage[i,j] = data[row, pix]\n",
    "\t\tplt.imshow(image, cmap = 'gray')\n",
    "\t\tplt.show()\n",
    "\n",
    "\tdef create_weights(self, data):\n",
    "\t\ta, b = np.shape(data)\n",
    "\t\tweights = np.random.rand(b,1)\n",
    "\t\treturn weights\n",
    "\n",
    "\tdef predict(self, data_point, weights):\n",
    "\t\tb = np.dot(data_point, weights)\n",
    "\t\ta = b>0\n",
    "\t\treturn a*1\n",
    "\n",
    "\tdef one_number(self, labels, number):\n",
    "\t\treturn (labels == number)*1\n",
    "\n",
    "\tdef update(self, weights, data_point, labels, alpha=.1):\n",
    "\t\tpredicted = self.predict(data_point, weights)\n",
    "\t\tweight_temp = np.zeros(np.shape(weights))\n",
    "\t\tweight_temp[:,0] = alpha*(labels-predicted)*data_point\n",
    "\t\treturn weight_temp+weights\n",
    "\n",
    "\tdef train_perceptron(self, data, labels, weights, alpha = .1, iterations = 100):\n",
    "\t\tfor j in range(0, iterations):\n",
    "\t\t\tfor i in range(0, len(data)):\n",
    "\t\t\t\tweights = self.update(weights, data[i], labels[i], alpha)\n",
    "\t\treturn weights\n",
    "\n",
    "\tdef test_perceptron_f(data, labels, weights):\n",
    "\t    a,b = np.shape(data)\n",
    "\t    predicted = self.predict(data, weights)\n",
    "\t    correct = (predicted==labels)*1==1\n",
    "\t    true_pos = np.sum((labels==1)*(correct))\n",
    "\t    true_neg = np.sum((labels==0)*(correct))\n",
    "\t    tp_p = true_pos/float(np.sum(labels))\n",
    "\t    print np.sum(labels)\n",
    "\t    tn_p = true_neg/float(a- np.sum(labels))\n",
    "\t    return true_pos, true_neg, tp_p, tn_p, a\n",
    "\t    \n",
    "\tdef all_numbers(self, data,labels, iterations, alpha):\n",
    "\t\tc,d = np.shape(data)\n",
    "\t\tw = self.create_weights(data)\n",
    "\t\tweights = []\n",
    "\t\tfor i in range(0,  len(np.unique(labels))):\n",
    "\t\t\tz = self.one_number(labels, i)\n",
    "\t\t\ta = self.train_perceptron(data, z, w, alpha, iterations)\n",
    "\t\t\tweights.append(a[:,0])\n",
    "\t\treturn np.asarray(weights)\n",
    "\n",
    "\tdef one_all(self, data, weights):\n",
    "\t\ta = np.dot(data,np.transpose(weights))\n",
    "\t\tb = len(np.shape(data))\n",
    "\t\tif b == 1:\n",
    "\t\t\treturn np.argmax(a)\n",
    "\t\treturn np.argmax(a, axis=1)\n",
    "\n",
    "\n",
    "\tdef test_all(self, data, labels, weights):\n",
    "\t\ta, b = np.shape(labels)\n",
    "\t\tpredicted = self.one_all(data, weights)\n",
    "\t\tcorrect = predicted == labels[:,0]\n",
    "\t\taccuracy = np.sum(correct)/float(a)\n",
    "\t\treturn accuracy\n",
    "\n",
    "\n"
   ]
  },
  {
   "cell_type": "code",
   "execution_count": 12,
   "metadata": {},
   "outputs": [],
   "source": [
    "data = np.loadtxt('sin.csv', delimiter = ',')"
   ]
  },
  {
   "cell_type": "code",
   "execution_count": 13,
   "metadata": {},
   "outputs": [
    {
     "ename": "NameError",
     "evalue": "global name 'iterations' is not defined",
     "output_type": "error",
     "traceback": [
      "\u001b[0;31m---------------------------------------------------------------------------\u001b[0m",
      "\u001b[0;31mNameError\u001b[0m                                 Traceback (most recent call last)",
      "\u001b[0;32m<ipython-input-13-455bb8ae7e42>\u001b[0m in \u001b[0;36m<module>\u001b[0;34m()\u001b[0m\n\u001b[0;32m----> 1\u001b[0;31m \u001b[0mPer\u001b[0m \u001b[0;34m=\u001b[0m \u001b[0mPerceptron\u001b[0m\u001b[0;34m(\u001b[0m\u001b[0mdata\u001b[0m\u001b[0;34m[\u001b[0m\u001b[0;34m:\u001b[0m\u001b[0;34m,\u001b[0m\u001b[0;36m0\u001b[0m\u001b[0;34m:\u001b[0m\u001b[0;36m2\u001b[0m\u001b[0;34m]\u001b[0m\u001b[0;34m,\u001b[0m \u001b[0mdata\u001b[0m\u001b[0;34m[\u001b[0m\u001b[0;34m:\u001b[0m\u001b[0;34m,\u001b[0m\u001b[0;36m2\u001b[0m\u001b[0;34m]\u001b[0m\u001b[0;34m,\u001b[0m \u001b[0malpha\u001b[0m \u001b[0;34m=\u001b[0m \u001b[0;36m.01\u001b[0m\u001b[0;34m,\u001b[0m \u001b[0miteration\u001b[0m \u001b[0;34m=\u001b[0m \u001b[0;36m3000\u001b[0m\u001b[0;34m,\u001b[0m \u001b[0mtest_percentage\u001b[0m \u001b[0;34m=\u001b[0m \u001b[0;36m.5\u001b[0m\u001b[0;34m)\u001b[0m\u001b[0;34m\u001b[0m\u001b[0m\n\u001b[0m",
      "\u001b[0;32m<ipython-input-11-4391d2075c38>\u001b[0m in \u001b[0;36m__init__\u001b[0;34m(self, data, labels, alpha, iteration, test_percentage)\u001b[0m\n\u001b[1;32m     17\u001b[0m                 \u001b[0mself\u001b[0m\u001b[0;34m.\u001b[0m\u001b[0miteration\u001b[0m \u001b[0;34m=\u001b[0m \u001b[0miteration\u001b[0m\u001b[0;34m\u001b[0m\u001b[0m\n\u001b[1;32m     18\u001b[0m                 \u001b[0mself\u001b[0m\u001b[0;34m.\u001b[0m\u001b[0mX_train\u001b[0m\u001b[0;34m,\u001b[0m \u001b[0mself\u001b[0m\u001b[0;34m.\u001b[0m\u001b[0mX_test\u001b[0m\u001b[0;34m,\u001b[0m \u001b[0mself\u001b[0m\u001b[0;34m.\u001b[0m\u001b[0my_train\u001b[0m\u001b[0;34m,\u001b[0m \u001b[0mself\u001b[0m\u001b[0;34m.\u001b[0m\u001b[0my_test\u001b[0m \u001b[0;34m=\u001b[0m \u001b[0mtrain_test_split\u001b[0m\u001b[0;34m(\u001b[0m\u001b[0mself\u001b[0m\u001b[0;34m.\u001b[0m\u001b[0mX\u001b[0m\u001b[0;34m,\u001b[0m \u001b[0mself\u001b[0m\u001b[0;34m.\u001b[0m\u001b[0my\u001b[0m\u001b[0;34m,\u001b[0m \u001b[0mtest_size\u001b[0m\u001b[0;34m=\u001b[0m\u001b[0mtest_percentage\u001b[0m\u001b[0;34m,\u001b[0m \u001b[0mrandom_state\u001b[0m\u001b[0;34m=\u001b[0m\u001b[0;36m42\u001b[0m\u001b[0;34m)\u001b[0m\u001b[0;34m\u001b[0m\u001b[0m\n\u001b[0;32m---> 19\u001b[0;31m                 \u001b[0mself\u001b[0m\u001b[0;34m.\u001b[0m\u001b[0mweights\u001b[0m \u001b[0;34m=\u001b[0m \u001b[0mself\u001b[0m\u001b[0;34m.\u001b[0m\u001b[0mall_numbers\u001b[0m\u001b[0;34m(\u001b[0m\u001b[0mself\u001b[0m\u001b[0;34m.\u001b[0m\u001b[0mX_train\u001b[0m\u001b[0;34m,\u001b[0m \u001b[0mself\u001b[0m\u001b[0;34m.\u001b[0m\u001b[0my_train\u001b[0m\u001b[0;34m,\u001b[0m \u001b[0mself\u001b[0m\u001b[0;34m.\u001b[0m\u001b[0miteration\u001b[0m\u001b[0;34m,\u001b[0m \u001b[0mself\u001b[0m\u001b[0;34m.\u001b[0m\u001b[0malpha\u001b[0m\u001b[0;34m)\u001b[0m\u001b[0;34m\u001b[0m\u001b[0m\n\u001b[0m\u001b[1;32m     20\u001b[0m                 \u001b[0mself\u001b[0m\u001b[0;34m.\u001b[0m\u001b[0maccuracy\u001b[0m \u001b[0;34m=\u001b[0m \u001b[0mself\u001b[0m\u001b[0;34m.\u001b[0m\u001b[0mtest_all\u001b[0m\u001b[0;34m(\u001b[0m\u001b[0mself\u001b[0m\u001b[0;34m.\u001b[0m\u001b[0mX_test\u001b[0m\u001b[0;34m,\u001b[0m \u001b[0mself\u001b[0m\u001b[0;34m.\u001b[0m\u001b[0my_test\u001b[0m\u001b[0;34m,\u001b[0m \u001b[0mself\u001b[0m\u001b[0;34m.\u001b[0m\u001b[0mweights\u001b[0m\u001b[0;34m)\u001b[0m\u001b[0;34m\u001b[0m\u001b[0m\n\u001b[1;32m     21\u001b[0m \u001b[0;34m\u001b[0m\u001b[0m\n",
      "\u001b[0;32m<ipython-input-11-4391d2075c38>\u001b[0m in \u001b[0;36mall_numbers\u001b[0;34m(self, data, labels, iteratins, alpha)\u001b[0m\n\u001b[1;32m     78\u001b[0m                 \u001b[0;32mfor\u001b[0m \u001b[0mi\u001b[0m \u001b[0;32min\u001b[0m \u001b[0mrange\u001b[0m\u001b[0;34m(\u001b[0m\u001b[0;36m0\u001b[0m\u001b[0;34m,\u001b[0m  \u001b[0mlen\u001b[0m\u001b[0;34m(\u001b[0m\u001b[0mnp\u001b[0m\u001b[0;34m.\u001b[0m\u001b[0munique\u001b[0m\u001b[0;34m(\u001b[0m\u001b[0mlabels\u001b[0m\u001b[0;34m)\u001b[0m\u001b[0;34m)\u001b[0m\u001b[0;34m)\u001b[0m\u001b[0;34m:\u001b[0m\u001b[0;34m\u001b[0m\u001b[0m\n\u001b[1;32m     79\u001b[0m                         \u001b[0mz\u001b[0m \u001b[0;34m=\u001b[0m \u001b[0mself\u001b[0m\u001b[0;34m.\u001b[0m\u001b[0mone_number\u001b[0m\u001b[0;34m(\u001b[0m\u001b[0mlabels\u001b[0m\u001b[0;34m,\u001b[0m \u001b[0mi\u001b[0m\u001b[0;34m)\u001b[0m\u001b[0;34m\u001b[0m\u001b[0m\n\u001b[0;32m---> 80\u001b[0;31m                         \u001b[0ma\u001b[0m \u001b[0;34m=\u001b[0m \u001b[0mself\u001b[0m\u001b[0;34m.\u001b[0m\u001b[0mtrain_perceptron\u001b[0m\u001b[0;34m(\u001b[0m\u001b[0mdata\u001b[0m\u001b[0;34m,\u001b[0m \u001b[0mz\u001b[0m\u001b[0;34m,\u001b[0m \u001b[0mw\u001b[0m\u001b[0;34m,\u001b[0m \u001b[0malpha\u001b[0m\u001b[0;34m,\u001b[0m \u001b[0miterations\u001b[0m\u001b[0;34m)\u001b[0m\u001b[0;34m\u001b[0m\u001b[0m\n\u001b[0m\u001b[1;32m     81\u001b[0m                         \u001b[0mweights\u001b[0m\u001b[0;34m.\u001b[0m\u001b[0mappend\u001b[0m\u001b[0;34m(\u001b[0m\u001b[0ma\u001b[0m\u001b[0;34m[\u001b[0m\u001b[0;34m:\u001b[0m\u001b[0;34m,\u001b[0m\u001b[0;36m0\u001b[0m\u001b[0;34m]\u001b[0m\u001b[0;34m)\u001b[0m\u001b[0;34m\u001b[0m\u001b[0m\n\u001b[1;32m     82\u001b[0m                 \u001b[0;32mreturn\u001b[0m \u001b[0mnp\u001b[0m\u001b[0;34m.\u001b[0m\u001b[0masarray\u001b[0m\u001b[0;34m(\u001b[0m\u001b[0mweights\u001b[0m\u001b[0;34m)\u001b[0m\u001b[0;34m\u001b[0m\u001b[0m\n",
      "\u001b[0;31mNameError\u001b[0m: global name 'iterations' is not defined"
     ]
    }
   ],
   "source": [
    "Per = Perceptron(data[:,0:2], data[:,2], alpha = .01, iteration = 3000, test_percentage = .5)"
   ]
  },
  {
   "cell_type": "code",
   "execution_count": null,
   "metadata": {
    "collapsed": true
   },
   "outputs": [],
   "source": []
  }
 ],
 "metadata": {
  "kernelspec": {
   "display_name": "Python 2",
   "language": "python",
   "name": "python2"
  },
  "language_info": {
   "codemirror_mode": {
    "name": "ipython",
    "version": 2
   },
   "file_extension": ".py",
   "mimetype": "text/x-python",
   "name": "python",
   "nbconvert_exporter": "python",
   "pygments_lexer": "ipython2",
   "version": "2.7.13"
  }
 },
 "nbformat": 4,
 "nbformat_minor": 2
}
