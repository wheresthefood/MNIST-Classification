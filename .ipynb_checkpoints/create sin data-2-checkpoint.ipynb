{
 "cells": [
  {
   "cell_type": "code",
   "execution_count": 1,
   "metadata": {
    "collapsed": true
   },
   "outputs": [],
   "source": [
    "import numpy as np\n",
    "from math import sin\n",
    "\n",
    "data = np.random.rand(500,3)*10"
   ]
  },
  {
   "cell_type": "code",
   "execution_count": 2,
   "metadata": {
    "collapsed": true
   },
   "outputs": [],
   "source": [
    "def a(x):\n",
    "    b = 4*sin(x[0])+5\n",
    "    return (x[1]>=b)*1\n"
   ]
  },
  {
   "cell_type": "code",
   "execution_count": 13,
   "metadata": {
    "collapsed": true
   },
   "outputs": [],
   "source": [
    "\n",
    "for i in range(0, 500):\n",
    "    c = a(data[i,:])\n",
    "    data[i,2] = c\n",
    "\n",
    "for i in range(0,500):\n",
    "    if data[i,0]>5:\n",
    "        data[i,2]+=1"
   ]
  },
  {
   "cell_type": "code",
   "execution_count": 17,
   "metadata": {},
   "outputs": [
    {
     "name": "stdout",
     "output_type": "stream",
     "text": [
      "[[  7.60067028e+00   3.19822723e-01   1.00000000e+00]\n",
      " [  2.56382409e+00   9.30784650e+00   1.00000000e+00]\n",
      " [  9.67727930e+00   3.55888814e+00   1.00000000e+00]\n",
      " [  9.74164809e+00   2.28690743e+00   1.00000000e+00]\n",
      " [  2.02936387e+00   3.94780730e+00   0.00000000e+00]\n",
      " [  2.91336623e+00   4.19353312e+00   0.00000000e+00]\n",
      " [  3.38592928e+00   4.13912004e+00   1.00000000e+00]\n",
      " [  5.77158938e-01   5.13435548e+00   0.00000000e+00]\n",
      " [  2.67566041e+00   5.86332817e+00   0.00000000e+00]\n",
      " [  7.13206512e+00   3.74685518e+00   1.00000000e+00]\n",
      " [  4.13280273e+00   6.09974921e+00   1.00000000e+00]\n",
      " [  6.43232805e+00   4.19689589e+00   1.00000000e+00]\n",
      " [  8.35539858e+00   7.80058286e+00   1.00000000e+00]\n",
      " [  3.00535398e+00   1.35579673e+00   0.00000000e+00]\n",
      " [  9.90038930e+00   1.53562340e+00   1.00000000e+00]\n",
      " [  3.89579251e+00   3.64764023e+00   1.00000000e+00]\n",
      " [  3.39657291e+00   7.33419856e-01   0.00000000e+00]\n",
      " [  9.00930636e+00   6.83576570e+00   2.00000000e+00]\n",
      " [  9.29912990e+00   7.37659753e+00   2.00000000e+00]\n",
      " [  7.10397238e+00   1.14946357e+00   1.00000000e+00]\n",
      " [  3.43469175e+00   5.95123357e+00   1.00000000e+00]\n",
      " [  4.71968464e+00   7.35839416e+00   1.00000000e+00]\n",
      " [  3.71908484e+00   5.73569564e+00   1.00000000e+00]\n",
      " [  1.21677048e-01   4.02751359e+00   0.00000000e+00]\n",
      " [  5.22155704e+00   5.02460855e+00   2.00000000e+00]\n",
      " [  7.07455515e+00   2.55227044e+00   1.00000000e+00]\n",
      " [  8.49479474e+00   9.30392937e+00   2.00000000e+00]\n",
      " [  7.17854750e+00   1.36636617e+00   1.00000000e+00]\n",
      " [  7.89339200e+00   4.99404606e+00   1.00000000e+00]\n",
      " [  3.69164048e+00   4.67286821e+00   1.00000000e+00]\n",
      " [  7.74360941e+00   4.46155089e+00   1.00000000e+00]\n",
      " [  2.91383638e+00   1.97828900e+00   0.00000000e+00]\n",
      " [  3.20791270e+00   2.13505480e+00   0.00000000e+00]\n",
      " [  6.39758018e+00   5.51344547e+00   2.00000000e+00]\n",
      " [  4.23961820e+00   6.02121814e+00   1.00000000e+00]\n",
      " [  8.14311195e+00   3.40372280e+00   1.00000000e+00]\n",
      " [  8.81733021e+00   1.24709445e+00   1.00000000e+00]\n",
      " [  2.54691929e+00   5.32827492e+00   0.00000000e+00]\n",
      " [  8.38388826e+00   6.05429229e+00   1.00000000e+00]\n",
      " [  3.57477754e+00   6.68782203e+00   1.00000000e+00]\n",
      " [  1.59823651e+00   8.01652470e+00   0.00000000e+00]\n",
      " [  9.65291827e+00   5.57242711e+00   2.00000000e+00]\n",
      " [  8.31051846e+00   2.65598086e+00   1.00000000e+00]\n",
      " [  3.19979965e+00   1.55311426e+00   0.00000000e+00]\n",
      " [  7.57575547e+00   6.92641076e-02   1.00000000e+00]\n",
      " [  6.79264768e+00   7.39257934e+00   2.00000000e+00]\n",
      " [  7.67724692e+00   3.42259470e+00   1.00000000e+00]\n",
      " [  4.68838028e+00   1.65417288e+00   1.00000000e+00]\n",
      " [  6.09034982e+00   9.22109226e+00   2.00000000e+00]\n",
      " [  7.45246164e+00   4.79161861e+00   1.00000000e+00]\n",
      " [  2.14189235e+00   4.30513647e+00   0.00000000e+00]\n",
      " [  3.09044367e-01   7.99114277e+00   1.00000000e+00]\n",
      " [  5.33675079e+00   8.03720283e+00   2.00000000e+00]\n",
      " [  9.02498069e+00   5.05026452e-01   1.00000000e+00]\n",
      " [  7.30720619e+00   7.24406003e+00   1.00000000e+00]\n",
      " [  6.75532652e+00   3.17573028e-03   1.00000000e+00]\n",
      " [  8.54906860e+00   1.93737098e+00   1.00000000e+00]\n",
      " [  8.59753203e+00   2.09397385e+00   1.00000000e+00]\n",
      " [  8.90050099e+00   9.30760064e+00   2.00000000e+00]\n",
      " [  8.74987943e+00   4.24461278e-01   1.00000000e+00]\n",
      " [  5.37419912e-01   8.24408923e+00   1.00000000e+00]\n",
      " [  9.32373188e+00   4.82133878e-01   1.00000000e+00]\n",
      " [  3.86362047e-01   7.81866401e-01   0.00000000e+00]\n",
      " [  1.41753673e+00   2.65059941e+00   0.00000000e+00]\n",
      " [  4.27330860e+00   9.50545440e+00   1.00000000e+00]\n",
      " [  5.17432961e+00   7.80882549e+00   2.00000000e+00]\n",
      " [  9.76085253e+00   3.01633381e+00   1.00000000e+00]\n",
      " [  1.54275121e+00   5.01679395e+00   0.00000000e+00]\n",
      " [  4.50021160e+00   8.07694152e+00   1.00000000e+00]\n",
      " [  8.79245935e-01   5.72106522e+00   0.00000000e+00]\n",
      " [  2.41618477e+00   9.75658931e+00   1.00000000e+00]\n",
      " [  6.52978865e+00   7.63834227e+00   2.00000000e+00]\n",
      " [  3.69715825e+00   1.10849768e+00   0.00000000e+00]\n",
      " [  9.17245724e+00   8.59851298e+00   2.00000000e+00]\n",
      " [  6.96077266e+00   8.96620621e+00   2.00000000e+00]\n",
      " [  7.57743100e-01   7.27232126e-01   0.00000000e+00]\n",
      " [  8.21215380e+00   9.01391157e+00   2.00000000e+00]\n",
      " [  1.76911755e+00   7.57511273e+00   0.00000000e+00]\n",
      " [  8.07564947e+00   7.92726786e+00   1.00000000e+00]\n",
      " [  6.08964705e+00   1.44202067e+00   1.00000000e+00]\n",
      " [  2.24951116e+00   3.15488507e-01   0.00000000e+00]\n",
      " [  9.09134465e+00   9.58284281e+00   2.00000000e+00]\n",
      " [  9.89765868e+00   1.29679628e+00   1.00000000e+00]\n",
      " [  9.41967626e-01   7.99105539e+00   0.00000000e+00]\n",
      " [  5.32964331e+00   7.62106244e+00   2.00000000e+00]\n",
      " [  5.77446769e+00   7.11225116e+00   2.00000000e+00]\n",
      " [  9.67004965e+00   5.08434275e-02   1.00000000e+00]\n",
      " [  9.47731105e+00   7.80403292e+00   2.00000000e+00]\n",
      " [  9.82664325e+00   4.90761021e+00   2.00000000e+00]\n",
      " [  4.37662227e+00   4.65550831e+00   1.00000000e+00]\n",
      " [  2.91190390e+00   7.72285877e+00   1.00000000e+00]\n",
      " [  1.81945136e+00   2.64429426e+00   0.00000000e+00]\n",
      " [  7.00357600e+00   7.55859007e+00   1.00000000e+00]\n",
      " [  5.55924909e+00   8.65278464e+00   2.00000000e+00]\n",
      " [  9.28770890e+00   8.71926594e+00   2.00000000e+00]\n",
      " [  1.38938252e+00   2.04441791e+00   0.00000000e+00]\n",
      " [  2.64575669e+00   7.89309761e+00   1.00000000e+00]\n",
      " [  8.58637596e+00   3.95498710e+00   1.00000000e+00]\n",
      " [  3.37177818e+00   2.35578637e-01   0.00000000e+00]\n",
      " [  3.56271989e+00   5.69080808e+00   1.00000000e+00]]\n"
     ]
    }
   ],
   "source": [
    "print data[0:100]"
   ]
  },
  {
   "cell_type": "code",
   "execution_count": 15,
   "metadata": {},
   "outputs": [],
   "source": [
    "import matplotlib.pyplot as plt"
   ]
  },
  {
   "cell_type": "code",
   "execution_count": 16,
   "metadata": {},
   "outputs": [
    {
     "data": {
      "image/png": "[encoded data removed]",
      "text/plain": [
       "<matplotlib.figure.Figure at 0x11a20b8d0>"
      ]
     },
     "metadata": {},
     "output_type": "display_data"
    }
   ],
   "source": [
    "for i in range(0,500):\n",
    "    if data[i,2] == 1:\n",
    "        plt.scatter(data[i,0], data[i,1], color = 'blue')\n",
    "    elif data[i,2] == 0:\n",
    "        plt.scatter(data[i,0], data[i,1], color = 'red')\n",
    "    else:\n",
    "        plt.scatter(data[i,0], data[i,1], color = 'green')\n",
    "plt.show()"
   ]
  },
  {
   "cell_type": "code",
   "execution_count": 18,
   "metadata": {
    "collapsed": true
   },
   "outputs": [],
   "source": [
    "np.savetxt('sin_multi.csv', data, delimiter = ',')"
   ]
  },
  {
   "cell_type": "code",
   "execution_count": null,
   "metadata": {
    "collapsed": true
   },
   "outputs": [],
   "source": []
  },
  {
   "cell_type": "code",
   "execution_count": null,
   "metadata": {
    "collapsed": true
   },
   "outputs": [],
   "source": []
  }
 ],
 "metadata": {
  "kernelspec": {
   "display_name": "Python 2",
   "language": "python",
   "name": "python2"
  },
  "language_info": {
   "codemirror_mode": {
    "name": "ipython",
    "version": 2
   },
   "file_extension": ".py",
   "mimetype": "text/x-python",
   "name": "python",
   "nbconvert_exporter": "python",
   "pygments_lexer": "ipython2",
   "version": "2.7.13"
  }
 },
 "nbformat": 4,
 "nbformat_minor": 2
}
