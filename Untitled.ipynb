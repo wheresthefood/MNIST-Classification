{
 "cells": [
  {
   "cell_type": "code",
   "execution_count": 100,
   "metadata": {
    "collapsed": true
   },
   "outputs": [],
   "source": [
    "import numpy as np\n",
    "import random\n",
    "# from sklean import train_test_split\n",
    "data = np.loadtxt('sin.csv', delimiter = ',')\n",
    "from scipy.special import expit\n",
    "\n",
    "\n",
    "#only for binary distinction\n",
    "\n",
    "class NN(object):\n",
    "\n",
    "\tdef __init__ (self, data, labels, hidden_layer_size = 10, alpha = .1, batch = 20, test_percentage = .3):\n",
    "\t\tself.data = data\n",
    "\t\t# self.X_train, self.X_test, self.y_train, self.y_test = train_test_split(self.data, labels, test_size=test_percentage, random_state=42)\n",
    "\t\tself.alpha = alpha\n",
    "\t\tself.batch = batch\n",
    "\t\tself.size = hidden_layer_size\n",
    "\t\tself.wh, self.wo, self.bh, self.bo = self.create_weights()\n",
    "\n",
    "\n",
    "\tdef sigmoid(self, x):\n",
    "\t\treturn 1/(1+np.exp(-x))\n",
    "\n",
    "\tdef sig_prime(self, sig):\n",
    "\t\treturn sig*(1-sig)\n",
    "\t\t#just to be clear, instead of computing sigmoid 3 times, i can just store the value, and then use it again for the derivative\n",
    "\n",
    "\n",
    "\tdef create_weights(self):\n",
    "\t\ta,b = np.shape(self.data)\n",
    "\t\t#wh equals hidden layer\n",
    "\t\t#wo equal output layer\n",
    "\t\twh = np.random.randn(b, self.size)\n",
    "\t\two = np.random.randn(self.size,1)\n",
    "\t\tbh = np.random.randn(1, self.size)\n",
    "\t\tbo = np.random.randn(1, 1)\n",
    "\t\treturn wh, wo, bh, bo\n",
    "\n",
    " \tdef feed_foward(self, data, wh, wo, bh, bo):\n",
    " \t\toutput1 = self.sigmoid(np.dot(data, wh)+bh)\n",
    " \t\toutput2 = self.sigmoid(np.dot(output1, wo)+bo)\n",
    "\n",
    " \t\treturn output1, output2\n",
    "\n",
    " \t#this will work for one training example\n",
    " \tdef back_prop(self, data, labels, output1, output2, wh, wo, bh, bo, alpha = 1):\n",
    " \t\terror = labels - output2\n",
    " \t\tdelta_output = error*self.sig_prime(output2)\n",
    " \t\t# print np.shape(delta_output)\n",
    " \t\t# print np.shape(wo)\n",
    " \t\terror_hidden = delta_output.dot(wo.T)\n",
    " \t\tdelta_hidden = error_hidden*self.sig_prime(output1)\n",
    " \t\two +=  alpha*output1.T.dot(delta_output)\n",
    " \t\twh += alpha*data.T.dot(delta_hidden)\n",
    " \t\tbo += alpha*np.sum(delta_output, axis = 0)\n",
    " \t\tbh += alpha*np.sum(delta_hidden, axis = 0)\n",
    "\n",
    " \t\ttotal_error = np.sum(abs(error))\n",
    " \t\treturn wo, wh, total_error\n",
    "\n",
    " \t# def GD(self, data, labels, wh, wo, bh, bo):\n",
    " \t# \t#code from https://www.analyticsvidhya.com/blog/2017/03/introduction-to-gradient-descent-algorithm-along-its-variants/\n",
    "\t\t# a, b = feed_foward(self, data, wh, wo, bh, bo)\n",
    "\n",
    "\t\t# params = [wh, wo, bh, bo]\n",
    "\n",
    "\t\t# grads = T.grad(cost=cost, wrt=params)\n",
    "\t\t# updates = []\n",
    "\n",
    "\t\t#   for p, g in zip(params, grads):\n",
    "\t\t#     updates.append([p, p - g * lr])\n",
    "\n",
    "\t\t#   return updates\n",
    "\n",
    "# updates = sgd(cost, params)\n",
    "\n",
    "\n",
    "\n",
    " \tdef train(self, data, labels, wh, wo, bh, bo, alpha = 100, iter = 120000):\n",
    "\n",
    " \t\tfor i in range(0, iter):\n",
    " \t\t\toutput1, output2 = self.feed_foward(data,wh, wo, bh, bo)\n",
    " \t\t\two, wh, total_error = self.back_prop(data, labels, output1, output2, wh, wo, bh, bo, alpha = alpha)\n",
    " \t\t\tif i%10000 == 0: print total_error\n",
    " \t\treturn wh, wo, bh, bo\n",
    "\n",
    " \tdef test(self, data, labels, wh, wo, bh, bo):\n",
    " \t\tout1, out2 = self.feed_foward(data,wh, wo, bh, bo)\n",
    " \t\tdef pr(x):\n",
    " \t\t\toutput = []\n",
    " \t\t\tfor i in x:\n",
    " \t\t\t\tif i >=.5:\n",
    " \t\t\t\t\toutput.append(1)\n",
    " \t\t\t\telse:\n",
    " \t\t\t\t\toutput.append(0)\n",
    " \t\t\treturn np.asarray([output]).T\n",
    " \t\tcorrect = pr(out2)==labels\n",
    "\t\treturn correct*1, pr(out2), out2\n"
   ]
  },
  {
   "cell_type": "code",
   "execution_count": 101,
   "metadata": {
    "collapsed": true
   },
   "outputs": [],
   "source": [
    "x = data[:, 0:2]\n",
    "y = data[:, 2:3]\n",
    "\n",
    "a = NN(x, y)"
   ]
  },
  {
   "cell_type": "code",
   "execution_count": 113,
   "metadata": {},
   "outputs": [
    {
     "name": "stdout",
     "output_type": "stream",
     "text": [
      "5.03740385985\n",
      "4.98049367732\n",
      "4.92611313637\n",
      "4.87398232329\n",
      "4.82387329027\n",
      "4.77559777906\n",
      "4.72899823555\n",
      "4.68394115307\n",
      "4.64031208509\n",
      "4.5980118683\n"
     ]
    }
   ],
   "source": [
    "c,d = a.feed_foward(x, a.wh, a.wo, a.bh, a.bo)\n",
    "\n",
    "w1,w2, bh, bo = a.train(x, y,a.wh, a.wo, a.bh, a.bo, alpha = .0006, iter = 100000)\n",
    "\n"
   ]
  },
  {
   "cell_type": "code",
   "execution_count": 114,
   "metadata": {
    "collapsed": true
   },
   "outputs": [],
   "source": [
    "import matplotlib.pyplot as plt\n"
   ]
  },
  {
   "cell_type": "code",
   "execution_count": 115,
   "metadata": {},
   "outputs": [
    {
     "data": {
      "image/png": "[encoded data removed]",
      "text/plain": [
       "<matplotlib.figure.Figure at 0x11f8fcc90>"
      ]
     },
     "metadata": {},
     "output_type": "display_data"
    }
   ],
   "source": [
    "for i in range(0,20):\n",
    "    it = i/2.0\n",
    "    it\n",
    "    for j in range(0,20):\n",
    "        jt = j/2.0\n",
    "        b = a.feed_foward([it, jt], a.wh, a.wo, a.bh, a.bo)\n",
    "        if b[1]>=.5:\n",
    "            plt.scatter(it, jt, color = 'blue')\n",
    "        else: plt.scatter(it, jt, color = 'red')\n",
    "plt.show()"
   ]
  },
  {
   "cell_type": "code",
   "execution_count": 116,
   "metadata": {},
   "outputs": [],
   "source": [
    "r,b,c = a.test(x, y, a.wh, a.wo, a.bh, a.bo)"
   ]
  },
  {
   "cell_type": "code",
   "execution_count": 117,
   "metadata": {},
   "outputs": [
    {
     "data": {
      "text/plain": [
       "(500, (500, 1))"
      ]
     },
     "execution_count": 117,
     "metadata": {},
     "output_type": "execute_result"
    }
   ],
   "source": [
    "np.sum(r), np.shape(y)"
   ]
  },
  {
   "cell_type": "code",
   "execution_count": null,
   "metadata": {
    "collapsed": true
   },
   "outputs": [],
   "source": []
  },
  {
   "cell_type": "code",
   "execution_count": null,
   "metadata": {
    "collapsed": true
   },
   "outputs": [],
   "source": []
  }
 ],
 "metadata": {
  "kernelspec": {
   "display_name": "Python 2",
   "language": "python",
   "name": "python2"
  },
  "language_info": {
   "codemirror_mode": {
    "name": "ipython",
    "version": 2
   },
   "file_extension": ".py",
   "mimetype": "text/x-python",
   "name": "python",
   "nbconvert_exporter": "python",
   "pygments_lexer": "ipython2",
   "version": "2.7.13"
  }
 },
 "nbformat": 4,
 "nbformat_minor": 2
}
