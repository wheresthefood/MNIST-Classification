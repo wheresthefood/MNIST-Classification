{
 "cells": [
  {
   "cell_type": "code",
   "execution_count": 2,
   "metadata": {
    "collapsed": true
   },
   "outputs": [],
   "source": [
    "import numpy as np\n",
    "from scipy.special import expit\n",
    "import matplotlib.pyplot as plt\n",
    "from sklearn.model_selection import train_test_split\n"
   ]
  },
  {
   "cell_type": "code",
   "execution_count": 3,
   "metadata": {
    "collapsed": true
   },
   "outputs": [],
   "source": [
    "# data = np.loadtxt('train_MNIST.csv', dtype = str, delimiter = ',')\n",
    "# y = np.asarray(data[1:, 0:1], dtype='float')\n",
    "# X = np.asarray(data[1:,1:], dtype='float')"
   ]
  },
  {
   "cell_type": "code",
   "execution_count": 4,
   "metadata": {
    "collapsed": true
   },
   "outputs": [],
   "source": [
    "# X_train, X_test, y_train, y_test = train_test_split(X, y, test_size=0.9, random_state=42)"
   ]
  },
  {
   "cell_type": "code",
   "execution_count": 117,
   "metadata": {},
   "outputs": [],
   "source": [
    "# %load perceptron_object\n",
    "\n",
    "import numpy as np\n",
    "import matplotlib.pyplot as plt\n",
    "import random as rd\n",
    "from sklearn.model_selection import train_test_split\n",
    "\n",
    "# data = np.loadtxt('train_MNIST.csv', dtype = str, delimiter = ',')\n",
    "# y = np.asarray(data[1:, 0:1], dtype='float')\n",
    "# X = np.asarray(data[1:,1:], dtype='float')\n",
    "\n",
    "class Perceptron(object):\n",
    "\tdef __init__(self, data, labels, alpha = .1, iteration = 30, test_percentage = .9, binary = False):\n",
    "\t\tself.X = self.add_ones(data)\n",
    "\t\tself.y = labels\n",
    "\t\tself.alpha = alpha\n",
    "\t\tself.iteration = iteration\n",
    "\t\tself.X_train, self.X_test, self.y_train, self.y_test = train_test_split(self.X, self.y, test_size=test_percentage, random_state=42)\n",
    "\t\tself.weights = self.all_numbers(self.X_train, self.y_train, self.iteration, self.alpha)\n",
    "\t\tself.accuracy = self.test_all(self.X_test, self.y_test, self.weights)\n",
    "\t\tif binary:\n",
    "\t\t\tself.w = self.create_weights(self.X_train)\n",
    "\t\t\tself.binary_weigths = self.train_perceptron(self.X_train, self.y_train, self.w, alpha = self.alpha, iterations = self.iteration)\n",
    "\t\t\tself.tp = self.test_perceptron_f(self.X_test, self.y_train, self.w)\n",
    "\n",
    "\tdef add_ones(self, x):\n",
    "\t \ta, b = np.shape(x)\n",
    "\t\tc = np.ones((a , 1))   \n",
    "\t\treturn np.hstack((c, x))\n",
    "\n",
    "\tdef img(self, row, data):\n",
    "\n",
    "\t\timage = np.zeros((28,28))\n",
    "\t\tfor i in range(0,28):\n",
    "\t\t\tfor j in range(0,28):\n",
    "\t\t\t\tpix = 28*i+j\n",
    "\t\t\t\timage[i,j] = data[row, pix]\n",
    "\t\tplt.imshow(image, cmap = 'gray')\n",
    "\t\tplt.show()\n",
    "\n",
    "\tdef create_weights(self, data):\n",
    "\t\ta, b = np.shape(data)\n",
    "\t\tweights = np.random.rand(b,1)\n",
    "\t\treturn weights\n",
    "\n",
    "\tdef predict(self, data_point, weights):\n",
    "\t\tb = np.dot(data_point, weights)\n",
    "\t\ta = b>0\n",
    "\t\treturn a*1\n",
    "\n",
    "\tdef one_number(self, labels, number):\n",
    "\t\treturn (labels == number)*1\n",
    "\n",
    "\tdef update(self, weights, data_point, labels, alpha=.1):\n",
    "\t\tpredicted = self.predict(data_point, weights)\n",
    "\t\tweight_temp = np.zeros(np.shape(weights))\n",
    "\t\tweight_temp[:,0] = alpha*(labels-predicted)*data_point\n",
    "\t\treturn weight_temp+weights\n",
    "\n",
    "\tdef train_perceptron(self, data, labels, weights, alpha = .1, iterations = 100):\n",
    "\t\tfor j in range(0, iterations):\n",
    "\t\t\tfor i in range(0, len(data)):\n",
    "\t\t\t\tweights = self.update(weights, data[i], labels[i], alpha)\n",
    "\t\treturn weights\n",
    "\n",
    "\tdef test_perceptron_f(self, data, labels, weights):\n",
    "\t    a,b = np.shape(data)\n",
    "\t    predicted = self.predict(data, weights)\n",
    "\t    correct = (predicted==labels)*1==1\n",
    "\t    true_pos = np.sum((labels==1)*(correct))\n",
    "\t    true_neg = np.sum((labels==0)*(correct))\n",
    "\t    tp_p = true_pos/float(np.sum(labels))\n",
    "\t    print np.sum(labels)\n",
    "\t    tn_p = true_neg/float(a- np.sum(labels))\n",
    "\t    return true_pos, true_neg, tp_p, tn_p, a\n",
    "\t    \n",
    "\tdef all_numbers(self, data,labels, iterations, alpha):\n",
    "\t\tc,d = np.shape(data)\n",
    "\t\tw = self.create_weights(data)\n",
    "\t\tweights = []\n",
    "\t\tfor i in range(0,  len(np.unique(labels))):\n",
    "\t\t\tz = self.one_number(labels, i)\n",
    "\t\t\ta = self.train_perceptron(data, z, w, alpha, iterations)\n",
    "\t\t\tweights.append(a[:,0])\n",
    "\t\treturn np.asarray(weights)\n",
    "\n",
    "\tdef one_all(self, data, weights):\n",
    "\t\ta = np.dot(data,np.transpose(weights))\n",
    "\t\tb = len(np.shape(data))\n",
    "\t\tif b == 1:\n",
    "\t\t\treturn np.argmax(a)\n",
    "\t\treturn np.argmax(a, axis=1)\n",
    "\n",
    "\n",
    "\tdef test_all(self, data, labels, weights):\n",
    "\t\ta, b = np.shape(labels)\n",
    "\t\tpredicted = self.one_all(data, weights)\n",
    "\t\tcorrect = predicted == labels[:,0]\n",
    "\t\taccuracy = np.sum(correct)/float(a)\n",
    "\t\treturn accuracy\n",
    "\n",
    "\n"
   ]
  },
  {
   "cell_type": "code",
   "execution_count": 118,
   "metadata": {
    "collapsed": true
   },
   "outputs": [],
   "source": [
    "data = np.loadtxt('sin.csv', delimiter = ',')"
   ]
  },
  {
   "cell_type": "code",
   "execution_count": 109,
   "metadata": {},
   "outputs": [
    {
     "ename": "AttributeError",
     "evalue": "'Perceptron' object has no attribute 'data'",
     "output_type": "error",
     "traceback": [
      "\u001b[0;31m---------------------------------------------------------------------------\u001b[0m",
      "\u001b[0;31mAttributeError\u001b[0m                            Traceback (most recent call last)",
      "\u001b[0;32m<ipython-input-109-51257085621b>\u001b[0m in \u001b[0;36m<module>\u001b[0;34m()\u001b[0m\n\u001b[0;32m----> 1\u001b[0;31m \u001b[0mPer\u001b[0m \u001b[0;34m=\u001b[0m \u001b[0mPerceptron\u001b[0m\u001b[0;34m(\u001b[0m\u001b[0mdata\u001b[0m\u001b[0;34m[\u001b[0m\u001b[0;34m:\u001b[0m\u001b[0;34m,\u001b[0m\u001b[0;36m0\u001b[0m\u001b[0;34m:\u001b[0m\u001b[0;36m2\u001b[0m\u001b[0;34m]\u001b[0m\u001b[0;34m,\u001b[0m \u001b[0mdata\u001b[0m\u001b[0;34m[\u001b[0m\u001b[0;34m:\u001b[0m\u001b[0;34m,\u001b[0m\u001b[0;36m2\u001b[0m\u001b[0;34m:\u001b[0m\u001b[0;36m3\u001b[0m\u001b[0;34m]\u001b[0m\u001b[0;34m,\u001b[0m \u001b[0malpha\u001b[0m \u001b[0;34m=\u001b[0m \u001b[0;36m.0001\u001b[0m\u001b[0;34m,\u001b[0m \u001b[0miteration\u001b[0m \u001b[0;34m=\u001b[0m \u001b[0;36m2000\u001b[0m\u001b[0;34m,\u001b[0m \u001b[0mtest_percentage\u001b[0m \u001b[0;34m=\u001b[0m \u001b[0;36m.5\u001b[0m\u001b[0;34m,\u001b[0m \u001b[0mbinary\u001b[0m \u001b[0;34m=\u001b[0m \u001b[0mTrue\u001b[0m\u001b[0;34m)\u001b[0m\u001b[0;34m\u001b[0m\u001b[0m\n\u001b[0m",
      "\u001b[0;32m<ipython-input-102-31002726cd4c>\u001b[0m in \u001b[0;36m__init__\u001b[0;34m(self, data, labels, alpha, iteration, test_percentage, binary)\u001b[0m\n\u001b[1;32m     20\u001b[0m                 \u001b[0mself\u001b[0m\u001b[0;34m.\u001b[0m\u001b[0maccuracy\u001b[0m \u001b[0;34m=\u001b[0m \u001b[0mself\u001b[0m\u001b[0;34m.\u001b[0m\u001b[0mtest_all\u001b[0m\u001b[0;34m(\u001b[0m\u001b[0mself\u001b[0m\u001b[0;34m.\u001b[0m\u001b[0mX_test\u001b[0m\u001b[0;34m,\u001b[0m \u001b[0mself\u001b[0m\u001b[0;34m.\u001b[0m\u001b[0my_test\u001b[0m\u001b[0;34m,\u001b[0m \u001b[0mself\u001b[0m\u001b[0;34m.\u001b[0m\u001b[0mweights\u001b[0m\u001b[0;34m)\u001b[0m\u001b[0;34m\u001b[0m\u001b[0m\n\u001b[1;32m     21\u001b[0m                 \u001b[0;32mif\u001b[0m \u001b[0mbinary\u001b[0m\u001b[0;34m:\u001b[0m\u001b[0;34m\u001b[0m\u001b[0m\n\u001b[0;32m---> 22\u001b[0;31m                         \u001b[0mself\u001b[0m\u001b[0;34m.\u001b[0m\u001b[0mw\u001b[0m \u001b[0;34m=\u001b[0m \u001b[0mself\u001b[0m\u001b[0;34m.\u001b[0m\u001b[0mcreate_weights\u001b[0m\u001b[0;34m(\u001b[0m\u001b[0mself\u001b[0m\u001b[0;34m.\u001b[0m\u001b[0mdata\u001b[0m\u001b[0;34m)\u001b[0m\u001b[0;34m\u001b[0m\u001b[0m\n\u001b[0m\u001b[1;32m     23\u001b[0m                         \u001b[0mself\u001b[0m\u001b[0;34m.\u001b[0m\u001b[0mbinary_weigths\u001b[0m \u001b[0;34m=\u001b[0m \u001b[0mself\u001b[0m\u001b[0;34m.\u001b[0m\u001b[0mtrain_perceptron\u001b[0m\u001b[0;34m(\u001b[0m\u001b[0mself\u001b[0m\u001b[0;34m.\u001b[0m\u001b[0mX_train\u001b[0m\u001b[0;34m,\u001b[0m \u001b[0mself\u001b[0m\u001b[0;34m.\u001b[0m\u001b[0my_train\u001b[0m\u001b[0;34m,\u001b[0m \u001b[0mself\u001b[0m\u001b[0;34m.\u001b[0m\u001b[0mw\u001b[0m\u001b[0;34m,\u001b[0m \u001b[0malpha\u001b[0m \u001b[0;34m=\u001b[0m \u001b[0mself\u001b[0m\u001b[0;34m.\u001b[0m\u001b[0malpha\u001b[0m\u001b[0;34m,\u001b[0m \u001b[0miterations\u001b[0m \u001b[0;34m=\u001b[0m \u001b[0mself\u001b[0m\u001b[0;34m.\u001b[0m\u001b[0miteration\u001b[0m\u001b[0;34m)\u001b[0m\u001b[0;34m\u001b[0m\u001b[0m\n\u001b[1;32m     24\u001b[0m                         \u001b[0mself\u001b[0m\u001b[0;34m.\u001b[0m\u001b[0mtp\u001b[0m \u001b[0;34m=\u001b[0m \u001b[0mself\u001b[0m\u001b[0;34m.\u001b[0m\u001b[0mtest_perceptron_f\u001b[0m\u001b[0;34m(\u001b[0m\u001b[0mself\u001b[0m\u001b[0;34m.\u001b[0m\u001b[0mX_test\u001b[0m\u001b[0;34m,\u001b[0m \u001b[0mself\u001b[0m\u001b[0;34m.\u001b[0m\u001b[0my_train\u001b[0m\u001b[0;34m,\u001b[0m \u001b[0mself\u001b[0m\u001b[0;34m.\u001b[0m\u001b[0mw\u001b[0m\u001b[0;34m)\u001b[0m\u001b[0;34m\u001b[0m\u001b[0m\n",
      "\u001b[0;31mAttributeError\u001b[0m: 'Perceptron' object has no attribute 'data'"
     ]
    }
   ],
   "source": [
    "Per = Perceptron(data[:,0:2], data[:,2:3], alpha = .0001, iteration = 2000, test_percentage = .5, binary = True)"
   ]
  },
  {
   "cell_type": "code",
   "execution_count": null,
   "metadata": {},
   "outputs": [],
   "source": [
    "Per.weights\n"
   ]
  },
  {
   "cell_type": "code",
   "execution_count": null,
   "metadata": {
    "collapsed": true
   },
   "outputs": [],
   "source": []
  },
  {
   "cell_type": "code",
   "execution_count": null,
   "metadata": {},
   "outputs": [],
   "source": [
    "def plot_weights(w):\n",
    "    x = np.arange(-1,11,.01)\n",
    "    y = (-w[0]-w[1]*x)/w[2]\n",
    "    plt.plot(x,y)\n",
    "plot_weights(Per.weights[1,:])\n",
    "    \n",
    "for i in range(0,500):\n",
    "    if data[i,2] == 1:\n",
    "        plt.scatter(data[i,0], data[i,1], color = 'blue')\n",
    "    else:\n",
    "        plt.scatter(data[i,0], data[i,1], color = 'red')\n",
    "plt.show()\n",
    "    \n",
    "\n",
    "    \n"
   ]
  },
  {
   "cell_type": "code",
   "execution_count": null,
   "metadata": {},
   "outputs": [],
   "source": [
    "Per.accuracy\n",
    "\n",
    "#although we can mess with the learning rates and see if we can find a slightly better boundry\n",
    "#(this one, just looking at it doesn't look perfect).  But we're never gonna be able to liearly sperate it\n",
    "# Clearly a linear funtion doesn't work here\n",
    "# we can try to fit a curved boundry layer"
   ]
  },
  {
   "cell_type": "code",
   "execution_count": 112,
   "metadata": {
    "collapsed": true
   },
   "outputs": [],
   "source": [
    "def quadratic(data):\n",
    "    return np.transpose(np.vstack((data[:,0], data[:, 1], data[:,0]*data[:,1], data[:,0]**2, data[:,1]**2)))"
   ]
  },
  {
   "cell_type": "code",
   "execution_count": 113,
   "metadata": {
    "collapsed": true
   },
   "outputs": [],
   "source": [
    "new_data = quadratic(data[:, 0:2])"
   ]
  },
  {
   "cell_type": "code",
   "execution_count": 114,
   "metadata": {},
   "outputs": [
    {
     "name": "stdout",
     "output_type": "stream",
     "text": [
      "[ 1.45005997  4.76356469  0.        ]\n"
     ]
    }
   ],
   "source": [
    "print data[0,:]"
   ]
  },
  {
   "cell_type": "code",
   "execution_count": 115,
   "metadata": {},
   "outputs": [
    {
     "name": "stdout",
     "output_type": "stream",
     "text": [
      "(500, 5) (500, 1)\n"
     ]
    }
   ],
   "source": [
    "print np.shape(new_data), np.shape(data[:,2:3])"
   ]
  },
  {
   "cell_type": "code",
   "execution_count": 141,
   "metadata": {},
   "outputs": [
    {
     "name": "stdout",
     "output_type": "stream",
     "text": [
      "142.0\n"
     ]
    },
    {
     "name": "stderr",
     "output_type": "stream",
     "text": [
      "/Users/teacher/anaconda/lib/python2.7/site-packages/ipykernel_launcher.py:69: DeprecationWarning: elementwise == comparison failed; this will raise an error in the future.\n"
     ]
    }
   ],
   "source": [
    "Per_q = Perceptron(new_data, data[:,2:3], alpha = .0005, iteration = 500, test_percentage = .3, binary = True)"
   ]
  },
  {
   "cell_type": "markdown",
   "metadata": {},
   "source": [
    "### Per_q = Perceptron(new_data, data[:,2:3], alpha = .001, iteration = 33000, test_percentage = .3)"
   ]
  },
  {
   "cell_type": "code",
   "execution_count": 142,
   "metadata": {},
   "outputs": [
    {
     "data": {
      "text/plain": [
       "array([[ 0.48679367, -0.59284917,  0.81960434, -0.10957204,  0.09155831,\n",
       "        -0.07387873],\n",
       "       [ 0.00929367,  0.40579066, -0.84408496,  0.13178947, -0.07275857,\n",
       "         0.04795837]])"
      ]
     },
     "execution_count": 142,
     "metadata": {},
     "output_type": "execute_result"
    }
   ],
   "source": [
    "Per_q.weights"
   ]
  },
  {
   "cell_type": "code",
   "execution_count": 143,
   "metadata": {
    "collapsed": true
   },
   "outputs": [],
   "source": [
    "def quad(a,b,c):\n",
    "    dis = (((b**2-4*a*c))**.5)\n",
    "    return (-b+dis)/float(2*a)\n",
    "    "
   ]
  },
  {
   "cell_type": "code",
   "execution_count": 144,
   "metadata": {},
   "outputs": [],
   "source": [
    "def y(x, w):\n",
    "    a = w[5]\n",
    "    b = x*w[3]+w[2]\n",
    "    c = w[0]+w[1]*x+w[4]*x*x\n",
    "    return quad(a,b,c)"
   ]
  },
  {
   "cell_type": "code",
   "execution_count": 145,
   "metadata": {},
   "outputs": [],
   "source": [
    "xs = np.arange(0,10,.1)"
   ]
  },
  {
   "cell_type": "code",
   "execution_count": 146,
   "metadata": {},
   "outputs": [],
   "source": [
    "ys = y(xs, Per_q.binary_weigths)"
   ]
  },
  {
   "cell_type": "code",
   "execution_count": 147,
   "metadata": {},
   "outputs": [
    {
     "data": {
      "image/png": "[encoded data removed]",
      "text/plain": [
       "<matplotlib.figure.Figure at 0x10ec95e50>"
      ]
     },
     "metadata": {},
     "output_type": "display_data"
    }
   ],
   "source": [
    "    \n",
    "for i in range(0,500):\n",
    "\tif data[i,2] == 1:\n",
    "\t\tplt.scatter(data[i,0], data[i,1], color = 'blue')\n",
    "\telse:\n",
    "\t\tplt.scatter(data[i,0], data[i,1], color = 'red')\n",
    "\n",
    "plt.plot(xs, ys)\n",
    "plt.show()\n",
    "    \n"
   ]
  },
  {
   "cell_type": "code",
   "execution_count": 148,
   "metadata": {},
   "outputs": [
    {
     "data": {
      "text/plain": [
       "0.76666666666666672"
      ]
     },
     "execution_count": 148,
     "metadata": {},
     "output_type": "execute_result"
    }
   ],
   "source": [
    "Per_q.accuracy"
   ]
  },
  {
   "cell_type": "code",
   "execution_count": null,
   "metadata": {
    "collapsed": true
   },
   "outputs": [],
   "source": []
  }
 ],
 "metadata": {
  "kernelspec": {
   "display_name": "Python 2",
   "language": "python",
   "name": "python2"
  },
  "language_info": {
   "codemirror_mode": {
    "name": "ipython",
    "version": 2
   },
   "file_extension": ".py",
   "mimetype": "text/x-python",
   "name": "python",
   "nbconvert_exporter": "python",
   "pygments_lexer": "ipython2",
   "version": "2.7.13"
  }
 },
 "nbformat": 4,
 "nbformat_minor": 2
}
